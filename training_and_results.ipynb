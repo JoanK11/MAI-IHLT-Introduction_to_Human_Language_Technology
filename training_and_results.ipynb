{
 "cells": [
  {
   "cell_type": "markdown",
   "metadata": {},
   "source": [
    "# **1. Introduction**"
   ]
  },
  {
   "cell_type": "markdown",
   "metadata": {},
   "source": [
    "In this notebook, we implement and train three different types of classifiers to predict the similarity score between pairs of sentences based on the extracted features.\n",
    "\n",
    "We will identify the best model and compare our results with various alternatives, including using only lexical features, only syntactic features, or a combination of both. Additionally, we will compare our results against the official benchmarks.\n",
    "\n",
    "We will also perform a feature importance analysis to determine which features are most influential in assessing the similarity between sentences. Furthermore, we will analyze the role and significance of lexical and semantic features to assess whether one type of feature is more effective than the other in determining if a pair of sentences are paraphrases."
   ]
  },
  {
   "cell_type": "code",
   "execution_count": null,
   "metadata": {},
   "outputs": [],
   "source": [
    "# Install the necessary libraries\n",
    "%pip install pandas numpy scikit-learn matplotlib scipy joblib"
   ]
  },
  {
   "cell_type": "code",
   "execution_count": 5,
   "metadata": {},
   "outputs": [],
   "source": [
    "# Import the required libraries\n",
    "import pandas as pd\n",
    "import joblib"
   ]
  },
  {
   "cell_type": "markdown",
   "metadata": {},
   "source": [
    "First, we load the preprocessed training and test datasets, as well as the extracted features for both the training and test datasets."
   ]
  },
  {
   "cell_type": "code",
   "execution_count": 6,
   "metadata": {},
   "outputs": [],
   "source": [
    "# Load Training and Test Datasets\n",
    "train_data = pd.read_csv('datasets/train_preprocessed.csv')\n",
    "test_data  = pd.read_csv('datasets/test_preprocessed.csv')\n",
    "\n",
    "# Load Training and Test Features\n",
    "features_train = pd.read_csv('features/features_train.csv')\n",
    "features_test  = pd.read_csv('features/features_test.csv')"
   ]
  },
  {
   "cell_type": "markdown",
   "metadata": {},
   "source": [
    "Secondly, we decided to shuffle the training features to eliminate any spatial bias. Currently, the features are sorted by dataset, with consecutive entries corresponding to the same dataset. Since we train our models using cross-validation, some folds may contain features from only a single dataset, potentially causing the model to become biased or overfitted to that dataset. To prevent this, we randomly shuffle the features, thereby avoiding such issues and enhancing the training process of our models."
   ]
  },
  {
   "cell_type": "code",
   "execution_count": 7,
   "metadata": {},
   "outputs": [],
   "source": [
    "from sklearn.utils import shuffle\n",
    "\n",
    "features_train_shuffled, score_shuffled = shuffle(features_train, train_data[\"score\"], random_state=42)"
   ]
  },
  {
   "cell_type": "markdown",
   "metadata": {},
   "source": [
    "As observed in the previous notebook in the Feature Visualization section, some of our features do not follow a normal distribution. Therefore, we decided to apply Yeo-Johnson transformations to modify the distribution of these features, enhancing their ability to provide more relevant information."
   ]
  },
  {
   "cell_type": "code",
   "execution_count": 8,
   "metadata": {},
   "outputs": [],
   "source": [
    "import numpy as np\n",
    "from sklearn.preprocessing import PowerTransformer\n",
    "\n",
    "# Initialize Yeo-Johnson power transformer\n",
    "power_transformer = PowerTransformer(method='yeo-johnson')\n",
    "\n",
    "# List of columns to apply log1p transformation\n",
    "log_transform_cols = [\n",
    "    \"longest_common_substring\", \"longest_common_subsequence\",\n",
    "    \"greedy_string_tiling\", \"3_gram_word_Jaccard\",\n",
    "    \"4_gram_word_Jaccard\", \"2_gram_word_Jaccard_without_SW\",\n",
    "    \"pathlen_similarity\", \"lin_similarity\"\n",
    "]\n",
    "\n",
    "# Apply log1p transformation to specified training features\n",
    "for col in log_transform_cols:\n",
    "    features_train[col] = np.log1p(features_train[col])\n",
    "\n",
    "# Apply Yeo-Johnson transformation to selected training features\n",
    "features_train[[\"2_gram_char\", \"lexical_substitution_system\", \"wordnet_augmented_overlap\", \"wordnet_augmented_word_overlap\"]] = power_transformer.fit_transform(features_train[[\"2_gram_char\", \"lexical_substitution_system\", \"wordnet_augmented_overlap\", \"wordnet_augmented_word_overlap\"]])\n",
    "\n",
    "# Apply log1p transformation to specified test features\n",
    "for col in log_transform_cols:\n",
    "    features_test[col] = np.log1p(features_test[col])\n",
    "\n",
    "# Apply the Yeo-Johnson transformation to selected test features\n",
    "features_test[[\"2_gram_char\", \"lexical_substitution_system\", \"wordnet_augmented_overlap\", \"wordnet_augmented_word_overlap\"]] = power_transformer.transform(features_test[[\"2_gram_char\", \"lexical_substitution_system\", \"wordnet_augmented_overlap\", \"wordnet_augmented_word_overlap\"]])"
   ]
  },
  {
   "cell_type": "markdown",
   "metadata": {},
   "source": [
    "# **2. Model Training**"
   ]
  },
  {
   "cell_type": "markdown",
   "metadata": {},
   "source": [
    "In this section, we train three different models and perform hyperparameter tuning using grid search for each of them."
   ]
  },
  {
   "cell_type": "markdown",
   "metadata": {},
   "source": [
    "## 2.1. Linear Regression"
   ]
  },
  {
   "cell_type": "markdown",
   "metadata": {},
   "source": [
    "The first model we implemented is the Linear Regression model. We selected this model because it was used in the UKP paper [1]. We followed the same process as described in the paper, utilizing 10-fold cross-validation."
   ]
  },
  {
   "cell_type": "code",
   "execution_count": 177,
   "metadata": {},
   "outputs": [
    {
     "name": "stdout",
     "output_type": "stream",
     "text": [
      "Linear Regression - Pearson Correlation Scores: [0.77301975 0.77625646 0.79850241 0.86295146 0.78612126 0.82311474\n",
      " 0.78100821 0.81608179 0.84297513 0.85075371]\n",
      "Linear Regression - Mean Pearson Correlation: 0.8110784922520671\n"
     ]
    }
   ],
   "source": [
    "from sklearn.linear_model import LinearRegression\n",
    "from sklearn.model_selection import cross_val_score\n",
    "from sklearn.metrics import make_scorer\n",
    "from scipy.stats import pearsonr\n",
    "import numpy as np\n",
    "\n",
    "# Custom scorer using Pearson correlation\n",
    "def pearson_corr(y_true, y_pred):\n",
    "    return pearsonr(y_true, y_pred)[0]\n",
    "\n",
    "pearson_scorer = make_scorer(pearson_corr, greater_is_better=True)\n",
    "\n",
    "# Linear Regression model\n",
    "linear_model = LinearRegression()\n",
    "\n",
    "# Perform 10-fold cross-validation\n",
    "linear_scores = cross_val_score(linear_model, features_train_shuffled, score_shuffled, cv=10, scoring=pearson_scorer)\n",
    "\n",
    "print(\"Linear Regression - Pearson Correlation Scores:\", linear_scores)\n",
    "print(\"Linear Regression - Mean Pearson Correlation:\", linear_scores.mean())"
   ]
  },
  {
   "cell_type": "code",
   "execution_count": 178,
   "metadata": {},
   "outputs": [
    {
     "name": "stdout",
     "output_type": "stream",
     "text": [
      "Linear Regression model saved to models/lr_best_model.joblib\n"
     ]
    }
   ],
   "source": [
    "# Save the Linear Regression model\n",
    "linear_model_path = 'models/lr_best_model.joblib'\n",
    "joblib.dump(linear_model, linear_model_path)\n",
    "print(f\"Linear Regression model saved to {linear_model_path}\")"
   ]
  },
  {
   "cell_type": "markdown",
   "metadata": {},
   "source": [
    "## 2.2. Random Forest Regressor"
   ]
  },
  {
   "cell_type": "markdown",
   "metadata": {},
   "source": [
    "The second model we implemented is the Random Forest Regressor. We selected this model based on our judgment and the generally strong performance of tree-based models in this type of task."
   ]
  },
  {
   "cell_type": "code",
   "execution_count": 179,
   "metadata": {},
   "outputs": [
    {
     "name": "stdout",
     "output_type": "stream",
     "text": [
      "Random Forest - Best Parameters: {'max_depth': 15, 'min_samples_split': 2, 'n_estimators': 400}\n",
      "Random Forest - Pearson Correlation Scores: [0.83043572 0.83724441 0.85284768 0.88990846 0.81582052 0.87845474\n",
      " 0.83172764 0.84873916 0.89342316 0.88679372]\n",
      "Random Forest - Mean Pearson Correlation: 0.856539520181151\n"
     ]
    }
   ],
   "source": [
    "from sklearn.ensemble import RandomForestRegressor\n",
    "from sklearn.model_selection import GridSearchCV\n",
    "\n",
    "# Hyperparameter Grid for Random Forest\n",
    "rf_params = {\n",
    "    \"n_estimators\": [100, 200, 400],\n",
    "    \"max_depth\": [15, 20, 25],\n",
    "    \"min_samples_split\": [2, 5]\n",
    "}\n",
    "\n",
    "# Random Forest Regressor\n",
    "rf_model = RandomForestRegressor(random_state=0)\n",
    "\n",
    "# Grid Search for Random Forest\n",
    "rf_grid = GridSearchCV(rf_model, rf_params, cv=10, scoring=pearson_scorer, n_jobs=-1)\n",
    "rf_grid.fit(features_train_shuffled, score_shuffled)\n",
    "\n",
    "# Best Model and Parameters\n",
    "rf_best_model = rf_grid.best_estimator_\n",
    "rf_best_params = rf_grid.best_params_\n",
    "\n",
    "# Cross-validation with the Best Model\n",
    "rf_best_scores = cross_val_score(rf_best_model, features_train_shuffled, score_shuffled, cv=10, scoring=pearson_scorer)\n",
    "\n",
    "print(\"Random Forest - Best Parameters:\", rf_best_params)\n",
    "print(\"Random Forest - Pearson Correlation Scores:\", rf_best_scores)\n",
    "print(\"Random Forest - Mean Pearson Correlation:\", rf_best_scores.mean())"
   ]
  },
  {
   "cell_type": "code",
   "execution_count": 180,
   "metadata": {},
   "outputs": [
    {
     "name": "stdout",
     "output_type": "stream",
     "text": [
      "Best Random Forest model saved to models/rf_best_model.joblib\n"
     ]
    }
   ],
   "source": [
    "# Save the Best Random Forest model\n",
    "rf_model_path = 'models/rf_best_model.joblib'\n",
    "joblib.dump(rf_best_model, rf_model_path)\n",
    "print(f\"Best Random Forest model saved to {rf_model_path}\")"
   ]
  },
  {
   "cell_type": "markdown",
   "metadata": {},
   "source": [
    "## 2.3. Gradient Boosting"
   ]
  },
  {
   "cell_type": "markdown",
   "metadata": {},
   "source": [
    "The third model we implemented is a Gradient Boosting Regressor. Gradient Boosting models are widely used for regression tasks, and we anticipated that this type of model could yield strong performance for our project."
   ]
  },
  {
   "cell_type": "code",
   "execution_count": 110,
   "metadata": {},
   "outputs": [
    {
     "name": "stderr",
     "output_type": "stream",
     "text": [
      "c:\\Users\\joanc\\miniconda3\\Lib\\site-packages\\numpy\\ma\\core.py:2820: RuntimeWarning: invalid value encountered in cast\n",
      "  _data = np.array(data, dtype=dtype, copy=copy,\n"
     ]
    },
    {
     "name": "stdout",
     "output_type": "stream",
     "text": [
      "Gradient Boosting - Best Parameters: {'learning_rate': 0.01, 'max_depth': 10, 'min_samples_split': 5, 'n_estimators': 400, 'subsample': 0.5}\n",
      "Gradient Boosting - Pearson Correlation Scores: [0.8252087  0.83682702 0.85958563 0.88687121 0.83540937 0.88264354\n",
      " 0.83548196 0.85386796 0.88752392 0.88934333]\n",
      "Gradient Boosting - Mean Pearson Correlation: 0.8592762632344485\n"
     ]
    }
   ],
   "source": [
    "from sklearn.ensemble import GradientBoostingRegressor\n",
    "\n",
    "# hyperparameter Grid for Gradient Boosting\n",
    "gb_params = {\n",
    "    \"learning_rate\": [0.01, 0.05, 0.1],\n",
    "    \"n_estimators\": [100, 200, 300, 400],\n",
    "    \"max_depth\": [5, 10, 15, 20],\n",
    "    \"min_samples_split\": [2, 5, 7],\n",
    "    \"subsample\": [0.5, 1.0]\n",
    "}\n",
    "\n",
    "# Gradient Boosting Regressor\n",
    "gb_model = GradientBoostingRegressor(random_state=0)\n",
    "\n",
    "# Grid Search for Gradient Boosting\n",
    "gb_grid = GridSearchCV(gb_model, gb_params, cv=10, scoring=pearson_scorer, n_jobs=-1)\n",
    "gb_grid.fit(features_train_shuffled, score_shuffled)\n",
    "\n",
    "# Best Model and Parameters\n",
    "gb_best_model = gb_grid.best_estimator_\n",
    "gb_best_params = gb_grid.best_params_\n",
    "\n",
    "# Cross-validation with the Best Model\n",
    "gb_best_scores = cross_val_score(gb_best_model, features_train_shuffled, score_shuffled, cv=10, scoring=pearson_scorer)\n",
    "\n",
    "print(\"Gradient Boosting - Best Parameters:\", gb_best_params)\n",
    "print(\"Gradient Boosting - Pearson Correlation Scores:\", gb_best_scores)\n",
    "print(\"Gradient Boosting - Mean Pearson Correlation:\", gb_best_scores.mean())"
   ]
  },
  {
   "cell_type": "code",
   "execution_count": 141,
   "metadata": {},
   "outputs": [
    {
     "name": "stdout",
     "output_type": "stream",
     "text": [
      "Best Gradient Boosting model saved to models/gb_best_model.joblib\n"
     ]
    }
   ],
   "source": [
    "# Save the Best Gradient Boosting model\n",
    "gb_model_path = 'models/gb_best_model.joblib'\n",
    "joblib.dump(gb_best_model, gb_model_path)\n",
    "print(f\"Best Gradient Boosting model saved to {gb_model_path}\")"
   ]
  },
  {
   "cell_type": "markdown",
   "metadata": {},
   "source": [
    "## **3. Model Selection**"
   ]
  },
  {
   "cell_type": "markdown",
   "metadata": {},
   "source": [
    "After training all three models, we select the one that achieved the highest average Pearson correlation."
   ]
  },
  {
   "cell_type": "code",
   "execution_count": 181,
   "metadata": {},
   "outputs": [
    {
     "name": "stdout",
     "output_type": "stream",
     "text": [
      "                   Mean Pearson CV Score\n",
      "Linear Regression               0.811078\n",
      "Random Forest                   0.856540\n",
      "Gradient Boosting               0.859276\n",
      "Best Model: Gradient Boosting with a Mean Pearson CV Score of 0.8592762632344485\n"
     ]
    }
   ],
   "source": [
    "# Summarize the mean Pearson correlation scores for each model\n",
    "models_summary = {\n",
    "    \"Linear Regression\": {\"Mean Pearson CV Score\": linear_scores.mean()},\n",
    "    \"Random Forest\": {\"Mean Pearson CV Score\": rf_best_scores.mean()},\n",
    "    \"Gradient Boosting\": {\"Mean Pearson CV Score\": gb_best_scores.mean()},\n",
    "}\n",
    "\n",
    "# DataFrame for better visualization\n",
    "models_df = pd.DataFrame(models_summary).T\n",
    "print(models_df)\n",
    "\n",
    "# Identify the best model based on the highest mean Pearson correlation\n",
    "best_model_name = models_df[\"Mean Pearson CV Score\"].idxmax()\n",
    "best_model_score = models_df[\"Mean Pearson CV Score\"].max()\n",
    "\n",
    "print(f\"Best Model: {best_model_name} with a Mean Pearson CV Score of {best_model_score}\")"
   ]
  },
  {
   "cell_type": "code",
   "execution_count": 182,
   "metadata": {},
   "outputs": [],
   "source": [
    "# Select the Best Model\n",
    "if best_model_name == \"Linear Regression\":\n",
    "    model = linear_model\n",
    "elif best_model_name == \"Random Forest\":\n",
    "    model = rf_best_model\n",
    "elif best_model_name == \"Gradient Boosting\":\n",
    "    model = gb_best_model"
   ]
  },
  {
   "cell_type": "code",
   "execution_count": 183,
   "metadata": {},
   "outputs": [
    {
     "name": "stdout",
     "output_type": "stream",
     "text": [
      "Best model saved to models/best_model.joblib\n"
     ]
    }
   ],
   "source": [
    "# Save the Best Model\n",
    "best_model_path = 'models/best_model.joblib'\n",
    "joblib.dump(model, best_model_path)\n",
    "print(f\"Best model saved to {best_model_path}\")"
   ]
  },
  {
   "cell_type": "code",
   "execution_count": 9,
   "metadata": {},
   "outputs": [
    {
     "name": "stdout",
     "output_type": "stream",
     "text": [
      "Best model loaded from models/best_model.joblib\n"
     ]
    }
   ],
   "source": [
    "# Path to the Best Model\n",
    "best_model_path = 'models/best_model.joblib'\n",
    "\n",
    "# Load the Best Model\n",
    "model = joblib.load(best_model_path)\n",
    "print(f\"Best model loaded from {best_model_path}\")"
   ]
  },
  {
   "cell_type": "markdown",
   "metadata": {},
   "source": [
    "# **4. Test Set Evaluation**"
   ]
  },
  {
   "cell_type": "markdown",
   "metadata": {},
   "source": [
    "After selecting the optimal model, we evaluate its performance on the test set."
   ]
  },
  {
   "cell_type": "code",
   "execution_count": 185,
   "metadata": {},
   "outputs": [
    {
     "name": "stdout",
     "output_type": "stream",
     "text": [
      "Gradient Boosting - Best Parameters: {'learning_rate': 0.01, 'n_estimators': 400, 'max_depth': 10, 'min_samples_split': 5, 'subsample': 0.5}\n",
      "Gradient Boosting - Pearson Correlation Scores: [0.8252087  0.83682702 0.85958563 0.88687121 0.83540937 0.88264354\n",
      " 0.83548196 0.85386796 0.88752392 0.88934333]\n",
      "Gradient Boosting - Mean Pearson Correlation: 0.8592762632344485\n"
     ]
    }
   ],
   "source": [
    "from sklearn.ensemble import GradientBoostingRegressor\n",
    "from sklearn.model_selection import cross_val_score\n",
    "\n",
    "# Best Parameters for Gradient Boosting\n",
    "best_params = {\n",
    "    \"learning_rate\": 0.01,\n",
    "    \"n_estimators\": 400,\n",
    "    \"max_depth\": 10,\n",
    "    \"min_samples_split\": 5,\n",
    "    \"subsample\": 0.5\n",
    "}\n",
    "\n",
    "# Gradient Boosting Regressor with Best Parameters\n",
    "gb_best_model = GradientBoostingRegressor(\n",
    "    learning_rate=best_params[\"learning_rate\"],\n",
    "    n_estimators=best_params[\"n_estimators\"],\n",
    "    max_depth=best_params[\"max_depth\"],\n",
    "    min_samples_split=best_params[\"min_samples_split\"],\n",
    "    subsample=best_params[\"subsample\"],\n",
    "    random_state=0\n",
    ")\n",
    "\n",
    "# Fit the model to the training data\n",
    "gb_best_model.fit(features_train_shuffled, score_shuffled)\n",
    "\n",
    "# Cross-validation with the Best Model\n",
    "gb_best_scores = cross_val_score(gb_best_model, features_train_shuffled, score_shuffled, cv=10, scoring=pearson_scorer)\n",
    "\n",
    "print(\"Gradient Boosting - Best Parameters:\", best_params)\n",
    "print(\"Gradient Boosting - Pearson Correlation Scores:\", gb_best_scores)\n",
    "print(\"Gradient Boosting - Mean Pearson Correlation:\", gb_best_scores.mean())\n"
   ]
  },
  {
   "cell_type": "code",
   "execution_count": 186,
   "metadata": {},
   "outputs": [
    {
     "name": "stdout",
     "output_type": "stream",
     "text": [
      "Pearson Correlation: 0.5605911314449616\n"
     ]
    }
   ],
   "source": [
    "# Actual scores from the test set\n",
    "y_true = test_data[\"score\"]\n",
    "\n",
    "# Predict scores using the selected model\n",
    "y_pred = gb_best_model.predict(features_test)\n",
    "\n",
    "# Pearson correlation between actual and predicted scores\n",
    "pearson_corr = pearsonr(y_true, y_pred)[0]\n",
    "print(\"Pearson Correlation:\", pearson_corr)"
   ]
  },
  {
   "cell_type": "markdown",
   "metadata": {},
   "source": [
    "We obtained a Pearson Correlation of 0.751 on the test data. This indicates a strong positive relationship between the actual and predicted similarity scores, suggesting that our model effectively captures the underlying patterns in the data."
   ]
  },
  {
   "cell_type": "markdown",
   "metadata": {},
   "source": [
    "# **5. Comparison with Official Results**"
   ]
  },
  {
   "cell_type": "markdown",
   "metadata": {},
   "source": [
    "To contextualize our results, we compare them against the baseline and the top 10 results from the SemEval-2012 Task 6 competition."
   ]
  },
  {
   "cell_type": "code",
   "execution_count": 5,
   "metadata": {},
   "outputs": [],
   "source": [
    "# Load Official Results from SemEval-2012 Task 6\n",
    "official_results = pd.read_csv('results/official_results.csv')"
   ]
  },
  {
   "cell_type": "code",
   "execution_count": 3,
   "metadata": {},
   "outputs": [
    {
     "ename": "ParserError",
     "evalue": "Error tokenizing data. C error: Expected 2 fields in line 104, saw 3\n",
     "output_type": "error",
     "traceback": [
      "\u001b[1;31m---------------------------------------------------------------------------\u001b[0m",
      "\u001b[1;31mParserError\u001b[0m                               Traceback (most recent call last)",
      "Cell \u001b[1;32mIn[3], line 5\u001b[0m\n\u001b[0;32m      3\u001b[0m best_model_name \u001b[38;5;241m=\u001b[39m \u001b[38;5;124m'\u001b[39m\u001b[38;5;124mgradient_boosting\u001b[39m\u001b[38;5;124m'\u001b[39m\n\u001b[0;32m      4\u001b[0m \u001b[38;5;66;03m# Calculate Best Results\u001b[39;00m\n\u001b[1;32m----> 5\u001b[0m best_results \u001b[38;5;241m=\u001b[39m \u001b[43mcompute_best_results\u001b[49m\u001b[43m(\u001b[49m\u001b[43mbest_model_name\u001b[49m\u001b[43m,\u001b[49m\u001b[43m \u001b[49m\u001b[43mmodel\u001b[49m\u001b[43m)\u001b[49m\n",
      "File \u001b[1;32mc:\\Users\\joanc\\Desktop\\MAI-IHLT-Introduction_to_Human_Language_Technology\\compare_results.py:42\u001b[0m, in \u001b[0;36mcompute_best_results\u001b[1;34m(best_model_name, best_model)\u001b[0m\n\u001b[0;32m     39\u001b[0m input_file \u001b[38;5;241m=\u001b[39m \u001b[38;5;124mf\u001b[39m\u001b[38;5;124m\"\u001b[39m\u001b[38;5;124m./datasets/test-gold/STS.input.\u001b[39m\u001b[38;5;132;01m{\u001b[39;00mdataset\u001b[38;5;132;01m}\u001b[39;00m\u001b[38;5;124m.txt\u001b[39m\u001b[38;5;124m\"\u001b[39m\n\u001b[0;32m     40\u001b[0m gold_scores_file \u001b[38;5;241m=\u001b[39m \u001b[38;5;124mf\u001b[39m\u001b[38;5;124m\"\u001b[39m\u001b[38;5;124m./datasets/test-gold/STS.gs.\u001b[39m\u001b[38;5;132;01m{\u001b[39;00mdataset\u001b[38;5;132;01m}\u001b[39;00m\u001b[38;5;124m.txt\u001b[39m\u001b[38;5;124m\"\u001b[39m\n\u001b[1;32m---> 42\u001b[0m inputs \u001b[38;5;241m=\u001b[39m \u001b[43mpd\u001b[49m\u001b[38;5;241;43m.\u001b[39;49m\u001b[43mread_csv\u001b[49m\u001b[43m(\u001b[49m\u001b[43minput_file\u001b[49m\u001b[43m,\u001b[49m\u001b[43m \u001b[49m\u001b[43mdelimiter\u001b[49m\u001b[38;5;241;43m=\u001b[39;49m\u001b[38;5;124;43m'\u001b[39;49m\u001b[38;5;130;43;01m\\t\u001b[39;49;00m\u001b[38;5;124;43m'\u001b[39;49m\u001b[43m,\u001b[49m\u001b[43m \u001b[49m\u001b[43mheader\u001b[49m\u001b[38;5;241;43m=\u001b[39;49m\u001b[38;5;28;43;01mNone\u001b[39;49;00m\u001b[43m,\u001b[49m\u001b[43m \u001b[49m\u001b[43mnames\u001b[49m\u001b[38;5;241;43m=\u001b[39;49m\u001b[43m[\u001b[49m\u001b[38;5;124;43m'\u001b[39;49m\u001b[38;5;124;43msentence_0\u001b[39;49m\u001b[38;5;124;43m'\u001b[39;49m\u001b[43m,\u001b[49m\u001b[43m \u001b[49m\u001b[38;5;124;43m'\u001b[39;49m\u001b[38;5;124;43msentence_1\u001b[39;49m\u001b[38;5;124;43m'\u001b[39;49m\u001b[43m]\u001b[49m\u001b[43m)\u001b[49m\n\u001b[0;32m     43\u001b[0m gold_scores \u001b[38;5;241m=\u001b[39m pd\u001b[38;5;241m.\u001b[39mread_csv(gold_scores_file, delimiter\u001b[38;5;241m=\u001b[39m\u001b[38;5;124m'\u001b[39m\u001b[38;5;130;01m\\t\u001b[39;00m\u001b[38;5;124m'\u001b[39m, header\u001b[38;5;241m=\u001b[39m\u001b[38;5;28;01mNone\u001b[39;00m)\u001b[38;5;241m.\u001b[39mvalues\u001b[38;5;241m.\u001b[39mflatten()\n\u001b[0;32m     45\u001b[0m \u001b[38;5;66;03m# Preprocess the dataset\u001b[39;00m\n",
      "File \u001b[1;32mc:\\Users\\joanc\\miniconda3\\Lib\\site-packages\\pandas\\io\\parsers\\readers.py:1026\u001b[0m, in \u001b[0;36mread_csv\u001b[1;34m(filepath_or_buffer, sep, delimiter, header, names, index_col, usecols, dtype, engine, converters, true_values, false_values, skipinitialspace, skiprows, skipfooter, nrows, na_values, keep_default_na, na_filter, verbose, skip_blank_lines, parse_dates, infer_datetime_format, keep_date_col, date_parser, date_format, dayfirst, cache_dates, iterator, chunksize, compression, thousands, decimal, lineterminator, quotechar, quoting, doublequote, escapechar, comment, encoding, encoding_errors, dialect, on_bad_lines, delim_whitespace, low_memory, memory_map, float_precision, storage_options, dtype_backend)\u001b[0m\n\u001b[0;32m   1013\u001b[0m kwds_defaults \u001b[38;5;241m=\u001b[39m _refine_defaults_read(\n\u001b[0;32m   1014\u001b[0m     dialect,\n\u001b[0;32m   1015\u001b[0m     delimiter,\n\u001b[1;32m   (...)\u001b[0m\n\u001b[0;32m   1022\u001b[0m     dtype_backend\u001b[38;5;241m=\u001b[39mdtype_backend,\n\u001b[0;32m   1023\u001b[0m )\n\u001b[0;32m   1024\u001b[0m kwds\u001b[38;5;241m.\u001b[39mupdate(kwds_defaults)\n\u001b[1;32m-> 1026\u001b[0m \u001b[38;5;28;01mreturn\u001b[39;00m \u001b[43m_read\u001b[49m\u001b[43m(\u001b[49m\u001b[43mfilepath_or_buffer\u001b[49m\u001b[43m,\u001b[49m\u001b[43m \u001b[49m\u001b[43mkwds\u001b[49m\u001b[43m)\u001b[49m\n",
      "File \u001b[1;32mc:\\Users\\joanc\\miniconda3\\Lib\\site-packages\\pandas\\io\\parsers\\readers.py:626\u001b[0m, in \u001b[0;36m_read\u001b[1;34m(filepath_or_buffer, kwds)\u001b[0m\n\u001b[0;32m    623\u001b[0m     \u001b[38;5;28;01mreturn\u001b[39;00m parser\n\u001b[0;32m    625\u001b[0m \u001b[38;5;28;01mwith\u001b[39;00m parser:\n\u001b[1;32m--> 626\u001b[0m     \u001b[38;5;28;01mreturn\u001b[39;00m \u001b[43mparser\u001b[49m\u001b[38;5;241;43m.\u001b[39;49m\u001b[43mread\u001b[49m\u001b[43m(\u001b[49m\u001b[43mnrows\u001b[49m\u001b[43m)\u001b[49m\n",
      "File \u001b[1;32mc:\\Users\\joanc\\miniconda3\\Lib\\site-packages\\pandas\\io\\parsers\\readers.py:1923\u001b[0m, in \u001b[0;36mTextFileReader.read\u001b[1;34m(self, nrows)\u001b[0m\n\u001b[0;32m   1916\u001b[0m nrows \u001b[38;5;241m=\u001b[39m validate_integer(\u001b[38;5;124m\"\u001b[39m\u001b[38;5;124mnrows\u001b[39m\u001b[38;5;124m\"\u001b[39m, nrows)\n\u001b[0;32m   1917\u001b[0m \u001b[38;5;28;01mtry\u001b[39;00m:\n\u001b[0;32m   1918\u001b[0m     \u001b[38;5;66;03m# error: \"ParserBase\" has no attribute \"read\"\u001b[39;00m\n\u001b[0;32m   1919\u001b[0m     (\n\u001b[0;32m   1920\u001b[0m         index,\n\u001b[0;32m   1921\u001b[0m         columns,\n\u001b[0;32m   1922\u001b[0m         col_dict,\n\u001b[1;32m-> 1923\u001b[0m     ) \u001b[38;5;241m=\u001b[39m \u001b[38;5;28;43mself\u001b[39;49m\u001b[38;5;241;43m.\u001b[39;49m\u001b[43m_engine\u001b[49m\u001b[38;5;241;43m.\u001b[39;49m\u001b[43mread\u001b[49m\u001b[43m(\u001b[49m\u001b[43m  \u001b[49m\u001b[38;5;66;43;03m# type: ignore[attr-defined]\u001b[39;49;00m\n\u001b[0;32m   1924\u001b[0m \u001b[43m        \u001b[49m\u001b[43mnrows\u001b[49m\n\u001b[0;32m   1925\u001b[0m \u001b[43m    \u001b[49m\u001b[43m)\u001b[49m\n\u001b[0;32m   1926\u001b[0m \u001b[38;5;28;01mexcept\u001b[39;00m \u001b[38;5;167;01mException\u001b[39;00m:\n\u001b[0;32m   1927\u001b[0m     \u001b[38;5;28mself\u001b[39m\u001b[38;5;241m.\u001b[39mclose()\n",
      "File \u001b[1;32mc:\\Users\\joanc\\miniconda3\\Lib\\site-packages\\pandas\\io\\parsers\\c_parser_wrapper.py:234\u001b[0m, in \u001b[0;36mCParserWrapper.read\u001b[1;34m(self, nrows)\u001b[0m\n\u001b[0;32m    232\u001b[0m \u001b[38;5;28;01mtry\u001b[39;00m:\n\u001b[0;32m    233\u001b[0m     \u001b[38;5;28;01mif\u001b[39;00m \u001b[38;5;28mself\u001b[39m\u001b[38;5;241m.\u001b[39mlow_memory:\n\u001b[1;32m--> 234\u001b[0m         chunks \u001b[38;5;241m=\u001b[39m \u001b[38;5;28;43mself\u001b[39;49m\u001b[38;5;241;43m.\u001b[39;49m\u001b[43m_reader\u001b[49m\u001b[38;5;241;43m.\u001b[39;49m\u001b[43mread_low_memory\u001b[49m\u001b[43m(\u001b[49m\u001b[43mnrows\u001b[49m\u001b[43m)\u001b[49m\n\u001b[0;32m    235\u001b[0m         \u001b[38;5;66;03m# destructive to chunks\u001b[39;00m\n\u001b[0;32m    236\u001b[0m         data \u001b[38;5;241m=\u001b[39m _concatenate_chunks(chunks)\n",
      "File \u001b[1;32mparsers.pyx:838\u001b[0m, in \u001b[0;36mpandas._libs.parsers.TextReader.read_low_memory\u001b[1;34m()\u001b[0m\n",
      "File \u001b[1;32mparsers.pyx:905\u001b[0m, in \u001b[0;36mpandas._libs.parsers.TextReader._read_rows\u001b[1;34m()\u001b[0m\n",
      "File \u001b[1;32mparsers.pyx:874\u001b[0m, in \u001b[0;36mpandas._libs.parsers.TextReader._tokenize_rows\u001b[1;34m()\u001b[0m\n",
      "File \u001b[1;32mparsers.pyx:891\u001b[0m, in \u001b[0;36mpandas._libs.parsers.TextReader._check_tokenize_status\u001b[1;34m()\u001b[0m\n",
      "File \u001b[1;32mparsers.pyx:2061\u001b[0m, in \u001b[0;36mpandas._libs.parsers.raise_parser_error\u001b[1;34m()\u001b[0m\n",
      "\u001b[1;31mParserError\u001b[0m: Error tokenizing data. C error: Expected 2 fields in line 104, saw 3\n"
     ]
    }
   ],
   "source": [
    "from compare_results import compute_best_results\n",
    "\n",
    "best_model_name = 'gradient_boosting'\n",
    "# Calculate Best Results\n",
    "best_results = compute_best_results(best_model_name, model)"
   ]
  },
  {
   "cell_type": "code",
   "execution_count": null,
   "metadata": {},
   "outputs": [],
   "source": [
    "\n",
    "# Add our results to the official results DataFrame\n",
    "comparison_results = pd.concat([official_results, own_results], ignore_index=True)\n",
    "\n",
    "# Modify Official Results\n",
    "#official_results.insert\n",
    "\n",
    "# Display the comparison\n",
    "print(comparison_results)"
   ]
  },
  {
   "cell_type": "markdown",
   "metadata": {},
   "source": [
    "# **6. Feature Importance Analysis**"
   ]
  },
  {
   "cell_type": "markdown",
   "metadata": {},
   "source": [
    "We believe it is important to identify which features are most influential in the final model for classifying each pair of sentences. Below, we present a bar chart displaying each feature sorted by their importance."
   ]
  },
  {
   "cell_type": "code",
   "execution_count": 10,
   "metadata": {},
   "outputs": [],
   "source": [
    "# Extract the importance from each feature\n",
    "importances = model.feature_importances_\n",
    "\n",
    "# Create a DataFrame for visualization\n",
    "feature_importances = pd.DataFrame({\n",
    "    'Feature': features_train.columns,\n",
    "    'Importance': importances\n",
    "}).sort_values(by='Importance', ascending=False)\n"
   ]
  },
  {
   "cell_type": "code",
   "execution_count": 12,
   "metadata": {},
   "outputs": [
    {
     "data": {
      "image/png": "[encoded data removed]",
      "text/plain": [
       "<Figure size 1000x800 with 1 Axes>"
      ]
     },
     "metadata": {},
     "output_type": "display_data"
    }
   ],
   "source": [
    "import matplotlib.pyplot as plt\n",
    "\n",
    "# Plot the feature importances as a bar chart\n",
    "plt.figure(figsize=(10, 8))\n",
    "plt.barh(feature_importances['Feature'], feature_importances['Importance'])\n",
    "plt.xlabel('Feature Importance')\n",
    "plt.ylabel('Feature')\n",
    "plt.title(f'Feature Importances in {best_model_name}')\n",
    "plt.gca().invert_yaxis() # Most important feature at the top\n",
    "plt.show()"
   ]
  },
  {
   "cell_type": "markdown",
   "metadata": {},
   "source": [
    "The bar chart displays the importance of each feature in the selected model. Features with higher importance scores contribute more significantly to the model's predictions, while those with lower scores have less influence.\n",
    "\n",
    "From the chart, we observe that certain features, such as `2_gram_char` and `wordnet_augmented_overlap` have high importance, indicating they are crucial in determining sentence similarity. These features likely capture essential aspects of lexical and semantic similarity effectively. On the other hand, features like `4_gram_word_Jaccard_without_SW` and `greedy_string_tiling` show lower importance, suggesting they have a minimal impact on the model's decisions."
   ]
  },
  {
   "cell_type": "markdown",
   "metadata": {},
   "source": [
    "aqui fer feature analysis però amb importancia acumulada donada el tipus de feature (lexica o semantica) amb un bar plot en horitzontal"
   ]
  },
  {
   "cell_type": "markdown",
   "metadata": {},
   "source": [
    "Overall, the analysis reveals that lexical features tend to be more influential than syntactic features in assessing sentence similarity."
   ]
  },
  {
   "cell_type": "markdown",
   "metadata": {},
   "source": [
    "# **7. Analysis with different texts**"
   ]
  },
  {
   "cell_type": "code",
   "execution_count": null,
   "metadata": {},
   "outputs": [],
   "source": [
    "#from ... import compute_features\n",
    "\n",
    "# Initialize a dictionary to store Pearson correlation results for each dataset\n",
    "pearson_results = {}\n",
    "\n",
    "# Iterate over each dataset within the test data\n",
    "for dataset_name, group in test_data.groupby(\"dataset_name\"):\n",
    "    # Actual scores for the current dataset\n",
    "    y_true = group[\"score\"]\n",
    "\n",
    "    # Compute features for the current group\n",
    "    features_group = ... #compute_features(group)\n",
    "\n",
    "    # Apply log1p transformation to specified features\n",
    "    log_transform_cols = [\n",
    "        \"longest_common_substring\", \"longest_common_subsequence\",\n",
    "        \"greedy_string_tiling\", \"3_gram_word_Jaccard\",\n",
    "        \"4_gram_word_Jaccard\", \"2_gram_word_Jaccard_without_SW\",\n",
    "        \"pathlen_similarity\", \"lin_similarity\"\n",
    "    ]\n",
    "    for col in log_transform_cols:\n",
    "        features_group[col] = np.log1p(features_group[col])\n",
    "\n",
    "    # Apply the same Yeo-Johnson transformation to selected features\n",
    "    features_group[[\"2_gram_char\", \"lexical_substitution_system\"]] = power_transformer.transform(features_group[[\"2_gram_char\", \"lexical_substitution_system\"]])\n",
    "\n",
    "    # Predict scores using the selected model\n",
    "    y_pred = model.predict(features_group)\n",
    "\n",
    "    # Calculate Pearson correlation for the current dataset\n",
    "    pearson_corr = pearsonr(y_true, y_pred)[0]\n",
    "\n",
    "    # Store the result\n",
    "    pearson_results[dataset_name] = pearson_corr\n",
    "\n",
    "    print(f\"Dataset: {dataset_name}, Pearson Correlation: {pearson_corr}\")"
   ]
  },
  {
   "cell_type": "markdown",
   "metadata": {},
   "source": [
    "# **Conclusions**"
   ]
  },
  {
   "cell_type": "markdown",
   "metadata": {},
   "source": [
    "In this project, we successfully implemented and trained three different classifiers to predict the similarity between pairs of sentences."
   ]
  },
  {
   "cell_type": "markdown",
   "metadata": {},
   "source": [
    "# **References**"
   ]
  }
 ],
 "metadata": {
  "kernelspec": {
   "display_name": "Python 3",
   "language": "python",
   "name": "python3"
  },
  "language_info": {
   "codemirror_mode": {
    "name": "ipython",
    "version": 3
   },
   "file_extension": ".py",
   "mimetype": "text/x-python",
   "name": "python",
   "nbconvert_exporter": "python",
   "pygments_lexer": "ipython3",
   "version": "3.12.4"
  }
 },
 "nbformat": 4,
 "nbformat_minor": 2
}
