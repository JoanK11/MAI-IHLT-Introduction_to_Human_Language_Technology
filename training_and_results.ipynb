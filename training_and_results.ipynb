{
 "cells": [
  {
   "cell_type": "markdown",
   "metadata": {},
   "source": [
    "# **1. Introduction**"
   ]
  },
  {
   "cell_type": "markdown",
   "metadata": {},
   "source": [
    "In this notebook, we implement and train three different types of classifiers to predict the similarity score between pairs of sentences based on the extracted features.\n",
    "\n",
    "We will identify the best model and compare our results with various alternatives, including classifiers using only lexical features, only syntactic features, or a combination of both. Additionally, we will compare our results against the official benchmarks.\n",
    "\n",
    "We will also perform a feature importance analysis to determine which features are most influential in assessing the similarity between sentences. Furthermore, we will analyze the role and significance of lexical and semantic features to assess whether one type of feature is more effective than the other in determining if a pair of sentences are paraphrases."
   ]
  },
  {
   "cell_type": "code",
   "execution_count": null,
   "metadata": {},
   "outputs": [],
   "source": [
    "# Install the necessary libraries\n",
    "%pip install pandas numpy scikit-learn matplotlib scipy joblib"
   ]
  },
  {
   "cell_type": "code",
   "execution_count": 89,
   "metadata": {},
   "outputs": [],
   "source": [
    "# Import the required libraries\n",
    "import pandas as pd\n",
    "import joblib\n",
    "\n",
    "import numpy as np\n",
    "from sklearn.preprocessing import PowerTransformer\n",
    "\n",
    "from sklearn.utils import shuffle\n",
    "\n",
    "from sklearn.linear_model import LinearRegression\n",
    "from sklearn.model_selection import cross_val_score\n",
    "from sklearn.metrics import make_scorer\n",
    "from scipy.stats import pearsonr\n",
    "\n",
    "from sklearn.ensemble import RandomForestRegressor, GradientBoostingRegressor\n",
    "from sklearn.model_selection import GridSearchCV\n",
    "\n",
    "import matplotlib.pyplot as plt\n",
    "\n",
    "import matplotlib.cm as cm\n",
    "\n",
    "# Custom scorer using Pearson correlation\n",
    "def pearson_corr(y_true, y_pred):\n",
    "    return pearsonr(y_true, y_pred)[0]\n",
    "\n",
    "pearson_scorer = make_scorer(pearson_corr, greater_is_better=True)"
   ]
  },
  {
   "cell_type": "markdown",
   "metadata": {},
   "source": [
    "First, we load the preprocessed training and test datasets, as well as the extracted features for both the training and test datasets."
   ]
  },
  {
   "cell_type": "code",
   "execution_count": 90,
   "metadata": {},
   "outputs": [],
   "source": [
    "# Load Training and Test Datasets\n",
    "train_data = pd.read_csv('datasets/train_preprocessed.csv')\n",
    "test_data  = pd.read_csv('datasets/test_preprocessed.csv')\n",
    "\n",
    "# Load Training and Test Features\n",
    "features_train = pd.read_csv('features/features_train.csv')\n",
    "features_test  = pd.read_csv('features/features_test.csv')"
   ]
  },
  {
   "cell_type": "markdown",
   "metadata": {},
   "source": [
    "As observed in the previous notebook in the Feature Visualization section, some of our features do not follow a gaussian distribution. Therefore, we decided to apply Yeo-Johnson transformations to modify the distribution of these features, enhancing their ability to provide more relevant information."
   ]
  },
  {
   "cell_type": "code",
   "execution_count": 91,
   "metadata": {},
   "outputs": [],
   "source": [
    "# Initialize Yeo-Johnson power transformer\n",
    "power_transformer = PowerTransformer(method='yeo-johnson')\n",
    "\n",
    "# List of columns to apply log1p transformation\n",
    "log_transform_cols = [\n",
    "    \"longest_common_substring\", \"longest_common_subsequence\",\n",
    "    \"greedy_string_tiling\", \"3_gram_word_Jaccard\",\n",
    "    \"4_gram_word_Jaccard\", \"2_gram_word_Jaccard_without_SW\",\n",
    "    \"pathlen_similarity\", \"lin_similarity\", \"weighted_word_overlap\"\n",
    "]\n",
    "\n",
    "# Apply log1p transformation to specified training features\n",
    "for col in log_transform_cols:\n",
    "    features_train[col] = np.log1p(features_train[col])\n",
    "\n",
    "# Apply Yeo-Johnson transformation to selected training features\n",
    "features_train[[\"2_gram_char\", \"lexical_substitution_system\", \"wordnet_augmented_overlap\", \"wordnet_augmented_word_overlap\"]] = power_transformer.fit_transform(features_train[[\"2_gram_char\", \"lexical_substitution_system\", \"wordnet_augmented_overlap\", \"wordnet_augmented_word_overlap\"]])\n",
    "\n",
    "# Apply log1p transformation to specified test features\n",
    "for col in log_transform_cols:\n",
    "    features_test[col] = np.log1p(features_test[col])\n",
    "\n",
    "# Apply the Yeo-Johnson transformation to selected test features\n",
    "features_test[[\"2_gram_char\", \"lexical_substitution_system\", \"wordnet_augmented_overlap\", \"wordnet_augmented_word_overlap\"]] = power_transformer.transform(features_test[[\"2_gram_char\", \"lexical_substitution_system\", \"wordnet_augmented_overlap\", \"wordnet_augmented_word_overlap\"]])"
   ]
  },
  {
   "cell_type": "markdown",
   "metadata": {},
   "source": [
    "# **2. Model Training**"
   ]
  },
  {
   "cell_type": "markdown",
   "metadata": {},
   "source": [
    "In this section, we train three different models and perform hyperparameter tuning using grid search for each of them."
   ]
  },
  {
   "cell_type": "markdown",
   "metadata": {},
   "source": [
    "We decided to shuffle the training features to eliminate any spatial bias. Currently, the features are sorted by dataset, with consecutive entries corresponding to the same dataset. Since we train our models using cross-validation, some folds may contain features from only a single dataset, potentially causing the model to become biased or overfitted to that dataset. To prevent this, we randomly shuffle the features, thereby avoiding such issues and enhancing the training process of our models."
   ]
  },
  {
   "cell_type": "code",
   "execution_count": 92,
   "metadata": {},
   "outputs": [],
   "source": [
    "features_train_shuffled, score_shuffled = shuffle(features_train, train_data[\"score\"], random_state=42)"
   ]
  },
  {
   "cell_type": "markdown",
   "metadata": {},
   "source": [
    "## 2.1. Linear Regression"
   ]
  },
  {
   "cell_type": "markdown",
   "metadata": {},
   "source": [
    "The first model we implemented is the Linear Regression model. We selected this model because it was used in the UKP paper [1]. We followed the same process as described in the paper, utilizing 10-fold cross-validation."
   ]
  },
  {
   "cell_type": "code",
   "execution_count": 62,
   "metadata": {},
   "outputs": [
    {
     "name": "stdout",
     "output_type": "stream",
     "text": [
      "Linear Regression - Pearson Correlation Scores: [0.81179901 0.81167043 0.8233549  0.88362347 0.80545697 0.85537709\n",
      " 0.7969279  0.82632593 0.86051435 0.86779703]\n",
      "Linear Regression - Mean Pearson Correlation: 0.8342847063515147\n"
     ]
    }
   ],
   "source": [
    "# Linear Regression model\n",
    "linear_model = LinearRegression()\n",
    "\n",
    "# Perform 10-fold cross-validation\n",
    "linear_scores = cross_val_score(linear_model, features_train_shuffled, score_shuffled, cv=10, scoring=pearson_scorer)\n",
    "\n",
    "print(\"Linear Regression - Pearson Correlation Scores:\", linear_scores)\n",
    "print(\"Linear Regression - Mean Pearson Correlation:\", linear_scores.mean())"
   ]
  },
  {
   "cell_type": "code",
   "execution_count": 63,
   "metadata": {},
   "outputs": [
    {
     "name": "stdout",
     "output_type": "stream",
     "text": [
      "Linear Regression model saved to models/lr_best_model.joblib\n"
     ]
    }
   ],
   "source": [
    "# Save the Linear Regression model\n",
    "linear_model_path = 'models/lr_best_model.joblib'\n",
    "joblib.dump(linear_model, linear_model_path)\n",
    "print(f\"Linear Regression model saved to {linear_model_path}\")"
   ]
  },
  {
   "cell_type": "markdown",
   "metadata": {},
   "source": [
    "## 2.2. Random Forest Regressor"
   ]
  },
  {
   "cell_type": "markdown",
   "metadata": {},
   "source": [
    "The second model we implemented is the Random Forest Regressor. We selected this model based on our judgment and the generally strong performance of tree-based models in this type of task."
   ]
  },
  {
   "cell_type": "code",
   "execution_count": 64,
   "metadata": {},
   "outputs": [
    {
     "name": "stdout",
     "output_type": "stream",
     "text": [
      "Random Forest - Best Parameters: {'max_depth': 20, 'min_samples_split': 2, 'n_estimators': 400}\n",
      "Random Forest - Pearson Correlation Scores: [0.83550534 0.83799488 0.85428418 0.89237153 0.81889181 0.8786213\n",
      " 0.83684206 0.84270835 0.89558081 0.88910407]\n",
      "Random Forest - Mean Pearson Correlation: 0.8581904332253126\n"
     ]
    }
   ],
   "source": [
    "# Hyperparameter Grid for Random Forest\n",
    "rf_params = {\n",
    "    \"n_estimators\": [100, 200, 400],\n",
    "    \"max_depth\": [15, 20, 25],\n",
    "    \"min_samples_split\": [2, 5]\n",
    "}\n",
    "\n",
    "# Random Forest Regressor\n",
    "rf_model = RandomForestRegressor(random_state=0)\n",
    "\n",
    "# Grid Search for Random Forest\n",
    "rf_grid = GridSearchCV(rf_model, rf_params, cv=10, scoring=pearson_scorer, n_jobs=-1)\n",
    "rf_grid.fit(features_train_shuffled, score_shuffled)\n",
    "\n",
    "# Best Model and Parameters\n",
    "rf_best_model = rf_grid.best_estimator_\n",
    "rf_best_params = rf_grid.best_params_\n",
    "\n",
    "# Cross-validation with the Best Model\n",
    "rf_best_scores = cross_val_score(rf_best_model, features_train_shuffled, score_shuffled, cv=10, scoring=pearson_scorer)\n",
    "\n",
    "print(\"Random Forest - Best Parameters:\", rf_best_params)\n",
    "print(\"Random Forest - Pearson Correlation Scores:\", rf_best_scores)\n",
    "print(\"Random Forest - Mean Pearson Correlation:\", rf_best_scores.mean())"
   ]
  },
  {
   "cell_type": "code",
   "execution_count": 65,
   "metadata": {},
   "outputs": [
    {
     "name": "stdout",
     "output_type": "stream",
     "text": [
      "Best Random Forest model saved to models/rf_best_model.joblib\n"
     ]
    }
   ],
   "source": [
    "# Save the Best Random Forest model\n",
    "rf_model_path = 'models/rf_best_model.joblib'\n",
    "joblib.dump(rf_best_model, rf_model_path)\n",
    "print(f\"Best Random Forest model saved to {rf_model_path}\")"
   ]
  },
  {
   "cell_type": "markdown",
   "metadata": {},
   "source": [
    "## 2.3. Gradient Boosting"
   ]
  },
  {
   "cell_type": "markdown",
   "metadata": {},
   "source": [
    "The third model we implemented is a Gradient Boosting Regressor. Gradient Boosting models are widely used for regression tasks, and we anticipated that this type of model could yield strong performance for our project."
   ]
  },
  {
   "cell_type": "code",
   "execution_count": 66,
   "metadata": {},
   "outputs": [
    {
     "name": "stdout",
     "output_type": "stream",
     "text": [
      "Gradient Boosting - Best Parameters: {'learning_rate': 0.01, 'max_depth': 10, 'min_samples_split': 7, 'n_estimators': 400, 'subsample': 0.5}\n",
      "Gradient Boosting - Pearson Correlation Scores: [0.8363408  0.8338872  0.86044719 0.89789973 0.83945276 0.88407335\n",
      " 0.84448319 0.84980388 0.89333276 0.89030064]\n",
      "Gradient Boosting - Mean Pearson Correlation: 0.8630021492551716\n"
     ]
    }
   ],
   "source": [
    "# Hyperparameter Grid for Gradient Boosting\n",
    "gb_params = {\n",
    "    \"learning_rate\": [0.01, 0.05, 0.1],\n",
    "    \"n_estimators\": [100, 200, 300, 400],\n",
    "    \"max_depth\": [5, 10, 15, 20],\n",
    "    \"min_samples_split\": [2, 5, 7],\n",
    "    \"subsample\": [0.5, 1.0]\n",
    "}\n",
    "\n",
    "# Gradient Boosting Regressor\n",
    "gb_model = GradientBoostingRegressor(random_state=0)\n",
    "\n",
    "# Grid Search for Gradient Boosting\n",
    "gb_grid = GridSearchCV(gb_model, gb_params, cv=10, scoring=pearson_scorer, n_jobs=-1)\n",
    "gb_grid.fit(features_train_shuffled, score_shuffled)\n",
    "\n",
    "# Best Model and Parameters\n",
    "gb_best_model = gb_grid.best_estimator_\n",
    "gb_best_params = gb_grid.best_params_\n",
    "\n",
    "# Cross-validation with the Best Model\n",
    "gb_best_scores = cross_val_score(gb_best_model, features_train_shuffled, score_shuffled, cv=10, scoring=pearson_scorer)\n",
    "\n",
    "print(\"Gradient Boosting - Best Parameters:\", gb_best_params)\n",
    "print(\"Gradient Boosting - Pearson Correlation Scores:\", gb_best_scores)\n",
    "print(\"Gradient Boosting - Mean Pearson Correlation:\", gb_best_scores.mean())"
   ]
  },
  {
   "cell_type": "code",
   "execution_count": 67,
   "metadata": {},
   "outputs": [
    {
     "name": "stdout",
     "output_type": "stream",
     "text": [
      "Best Gradient Boosting model saved to models/gb_best_model.joblib\n"
     ]
    }
   ],
   "source": [
    "# Save the Best Gradient Boosting model\n",
    "gb_model_path = 'models/gb_best_model.joblib'\n",
    "joblib.dump(gb_best_model, gb_model_path)\n",
    "print(f\"Best Gradient Boosting model saved to {gb_model_path}\")"
   ]
  },
  {
   "cell_type": "markdown",
   "metadata": {},
   "source": [
    "## **3. Model Selection**"
   ]
  },
  {
   "cell_type": "markdown",
   "metadata": {},
   "source": [
    "After training all three models, we select the one that achieved the highest average Pearson correlation."
   ]
  },
  {
   "cell_type": "code",
   "execution_count": 68,
   "metadata": {},
   "outputs": [
    {
     "name": "stdout",
     "output_type": "stream",
     "text": [
      "                   Mean Pearson CV Score\n",
      "Linear Regression               0.834285\n",
      "Random Forest                   0.858190\n",
      "Gradient Boosting               0.863002\n",
      "Best Model: Gradient Boosting with a Mean Pearson CV Score of 0.8630021492551716\n"
     ]
    }
   ],
   "source": [
    "# Summarize the mean Pearson correlation scores for each model\n",
    "models_summary = {\n",
    "    \"Linear Regression\": {\"Mean Pearson CV Score\": linear_scores.mean()},\n",
    "    \"Random Forest\": {\"Mean Pearson CV Score\": rf_best_scores.mean()},\n",
    "    \"Gradient Boosting\": {\"Mean Pearson CV Score\": gb_best_scores.mean()},\n",
    "}\n",
    "\n",
    "# DataFrame for better visualization\n",
    "models_df = pd.DataFrame(models_summary).T\n",
    "print(models_df)\n",
    "\n",
    "# Identify the best model based on the highest mean Pearson correlation\n",
    "best_model_name = models_df[\"Mean Pearson CV Score\"].idxmax()\n",
    "best_model_score = models_df[\"Mean Pearson CV Score\"].max()\n",
    "\n",
    "print(f\"Best Model: {best_model_name} with a Mean Pearson CV Score of {best_model_score}\")"
   ]
  },
  {
   "cell_type": "code",
   "execution_count": 69,
   "metadata": {},
   "outputs": [],
   "source": [
    "# Select the Best Model\n",
    "if best_model_name == \"Linear Regression\":\n",
    "    model = linear_model\n",
    "elif best_model_name == \"Random Forest\":\n",
    "    model = rf_best_model\n",
    "elif best_model_name == \"Gradient Boosting\":\n",
    "    model = gb_best_model"
   ]
  },
  {
   "cell_type": "code",
   "execution_count": 70,
   "metadata": {},
   "outputs": [
    {
     "name": "stdout",
     "output_type": "stream",
     "text": [
      "Best model saved to models/best_model.joblib\n"
     ]
    }
   ],
   "source": [
    "# Path to the Best Model\n",
    "best_model_path = 'models/best_model.joblib'\n",
    "\n",
    "# Save the Best Model\n",
    "joblib.dump(model, best_model_path)\n",
    "print(f\"Best model saved to {best_model_path}\")"
   ]
  },
  {
   "cell_type": "code",
   "execution_count": 93,
   "metadata": {},
   "outputs": [
    {
     "name": "stdout",
     "output_type": "stream",
     "text": [
      "Best model loaded from models/best_model.joblib\n"
     ]
    }
   ],
   "source": [
    "# Path to the Best Model\n",
    "best_model_path = 'models/best_model.joblib'\n",
    "\n",
    "# Load the Best Model\n",
    "model = joblib.load(best_model_path)\n",
    "print(f\"Best model loaded from {best_model_path}\")"
   ]
  },
  {
   "cell_type": "markdown",
   "metadata": {},
   "source": [
    "# **4. Test Set Evaluation**"
   ]
  },
  {
   "cell_type": "markdown",
   "metadata": {},
   "source": [
    "After selecting the optimal model, we evaluate its performance on the test set."
   ]
  },
  {
   "cell_type": "code",
   "execution_count": 94,
   "metadata": {},
   "outputs": [
    {
     "name": "stdout",
     "output_type": "stream",
     "text": [
      "Pearson Correlation: 0.7575784829418253\n"
     ]
    }
   ],
   "source": [
    "# Actual scores from the test set\n",
    "y_true = test_data[\"score\"]\n",
    "\n",
    "# Predict scores using the selected model\n",
    "y_pred = model.predict(features_test)\n",
    "\n",
    "# Pearson correlation between actual and predicted scores\n",
    "pearson_corr = pearsonr(y_true, y_pred)[0]\n",
    "print(\"Pearson Correlation:\", pearson_corr)"
   ]
  },
  {
   "cell_type": "markdown",
   "metadata": {},
   "source": [
    "We obtained a Pearson Correlation of 0.7576 on the test data. This indicates a strong positive relationship between the actual and predicted similarity scores, suggesting that our model effectively captures the underlying patterns in the data."
   ]
  },
  {
   "cell_type": "markdown",
   "metadata": {},
   "source": [
    "# **5. Analysis with different texts**"
   ]
  },
  {
   "cell_type": "markdown",
   "metadata": {},
   "source": [
    "**A continuación vamos a analizar la performance de nuestro mejor modelo según cada dataset. Con esto esperamos sacar información útil sobre cómo se comporta nuestro modelo con pares de frases de diferentes \"proveniencias?\", como por ejemplo pares de frases obtenidas de news sources on the web (MSRpar), manual description of videos (MSRvid), etc.** y ver si nuestro modelo funciona mejor en algunos casos que en otros."
   ]
  },
  {
   "cell_type": "code",
   "execution_count": 95,
   "metadata": {},
   "outputs": [
    {
     "name": "stdout",
     "output_type": "stream",
     "text": [
      "Dataset: MSRpar, Pearson Correlation: 0.6097693001022645\n",
      "Dataset: MSRvid, Pearson Correlation: 0.8386748282534271\n",
      "Dataset: SMTeuroparl, Pearson Correlation: 0.4588782601632434\n",
      "Dataset: surprise.OnWN, Pearson Correlation: 0.7066395838074657\n",
      "Dataset: surprise.SMTnews, Pearson Correlation: 0.439522571834905\n"
     ]
    }
   ],
   "source": [
    "pearson_results = {}\n",
    "\n",
    "for dataset_name, group in test_data.groupby(\"dataset_name\"):\n",
    "    y_true = group[\"score\"]\n",
    "\n",
    "    features_group = features_test.loc[group.index].copy()\n",
    "    \n",
    "    y_pred = model.predict(features_group)\n",
    "\n",
    "    pearson_corr = pearsonr(y_true, y_pred)[0]\n",
    "\n",
    "    pearson_results[dataset_name] = pearson_corr\n",
    "\n",
    "    print(f\"Dataset: {dataset_name}, Pearson Correlation: {pearson_corr}\")"
   ]
  },
  {
   "cell_type": "markdown",
   "metadata": {},
   "source": [
    "En la anterior gráfica podemos observar la performance de nuestro mejor modelo con los 5 diferentes datasets en el test set. Obtenemos una gran pearson correlation de 0.8386 en MSRvid, seguido de una buena performance en el dataset de OnWN con una pearson correlation de 0.7066. el siguiente modelo ya performa regular con una pearson correlation de 0.609; i los dos últimos modelos, SMTeuroparl i SMTnews, obtienen pearson correlations muy bajas de 0.4588 i 0.439, respectivametne.\n",
    "\n",
    "Si analizamos concretamente qué tipo de frases se encuentran en cada dataset, obtenemos las siguientes descripciones. También mostramos la mean pearson correlation obtenida de todos los participantes en la SemEval-2012 Task 6 para cada dataset:\n",
    "\n",
    "- MSRpar: Sentences collected from news resources on the web. The mean pearson correlation for this dataset is 0.73.\n",
    "- MSRvid: Sentences describing actions of events in brief videos done by annotaters (note, the annotators provided the description, not the video, just to be clear, don't include this in the final text, just so you can write it clearly). The mean pearson correlation for this dataset is 0.88.\n",
    "- SMTeuroparl: Translations from French to English sentences from the Workshops on Statistical Machine Translation (WMT). The mean pearson correlation for this dataset is 0.57.\n",
    "- OnWN: Glosses from OntoNotes and WordNet, which are large-scale linguistic resources for natural language processing.The mean pearson correlation for this dataset is 0.73.\n",
    "- SMTnews: Sentences of translations from French to English  from news conversations. The mean pearson correlation for this dataset is 0.61.\n",
    "\n",
    "Con las pearson correlations obtenidas, la descsripcionde cada dataset y la average pearson correlation en la competicion, podemos sacar las siguientes conclusiones.\n",
    "\n",
    "Primero, el dataset MSRvid obtiene la mayor pearson correlation con nuestro mejor modelo (0.838) y también con el average de la competicion (0.88), aunque nuestra pearson es un poco mas bajo que el average. Nuestro segundo dataset que mas perason hemos obtenido es OnWN con 0.706, el cual tambien coincide el average en la competicion que ha quedado segundo empetado con MSRpar una pearson de 0.73, otra vez obteniendo un poco menos de pearson que el average. El tercer dataset, MSRpar, hemos obtenido una pearson mucho menor que la average de la competicion con 0.61, 0.12 menos. Para el cuarto y quinto datasets, SMTeuroparl y SMTnews, obtenido tambien una gran mayor diferencia de pearsons con la average competition pearson, con 0.12 y 0.17 respectivamente.\n",
    "\n",
    "Aunque hayamos obtenido una buena average pearson correlation de 0.757, nuestro modelo ha rendido muy por debajo en los datasets de SMT y MSRpar, y un poco por debajo con MSRvid y OnWN. Analizando el contenido de las frases, observamos una tendencia nuestra y en la competicion de ser mas dificil classificar la similaridad entre frases cuando son traducciones de un idioma a otro, en este caso del frances al ingles. para frases muy dichas en el dia a dia, como frases que se dicen en las noticias en MSRpar o que forman parte de un gloss de NLP en OnWN, los modelos en general suelen rendir mejor."
   ]
  },
  {
   "cell_type": "markdown",
   "metadata": {},
   "source": [
    "# **6. Comparison with Official Results**"
   ]
  },
  {
   "cell_type": "markdown",
   "metadata": {},
   "source": [
    "To contextualize our results, we compare them against the top 10 results from the SemEval-2012 Task 6 competition and the baseline model."
   ]
  },
  {
   "cell_type": "code",
   "execution_count": null,
   "metadata": {},
   "outputs": [],
   "source": [
    "# Load Official Results from SemEval-2012 Task 6\n",
    "official_results = pd.read_csv('results/official_results.csv')"
   ]
  },
  {
   "cell_type": "code",
   "execution_count": 101,
   "metadata": {},
   "outputs": [
    {
     "data": {
      "text/plain": [
       "{'ALL': 0.7575784829418253,\n",
       " 'ALL_nrm': 0.7575784829418254,\n",
       " 'Mean': 0.6442430539573436,\n",
       " 'MSRpar': 0.6097693001022645,\n",
       " 'MSRvid': 0.8386748282534271,\n",
       " 'SMT-eur': 0.4588782601632434,\n",
       " 'On-WN': 0.7066395838074657,\n",
       " 'SMT-news': 0.439522571834905}"
      ]
     },
     "execution_count": 101,
     "metadata": {},
     "output_type": "execute_result"
    }
   ],
   "source": [
    "y_true = test_data[\"score\"]\n",
    "y_pred = model.predict(features_test)\n",
    "pearson_corr = pearsonr(y_true, y_pred)[0]\n",
    "\n",
    "# Normalize predictions using linear transformation\n",
    "all_gold_scores = np.array(y_true)\n",
    "all_predictions = np.array(y_pred)\n",
    "\n",
    "beta_1, beta_2 = np.polyfit(all_predictions, all_gold_scores, 1)\n",
    "normalized_predictions = all_predictions * beta_1 + beta_2\n",
    "\n",
    "# Calculate normalized Pearson correlation\n",
    "normalized_pearson_corr, _ = pearsonr(normalized_predictions, all_gold_scores)\n",
    "\n",
    "# Calculate weighted mean of Pearson\n",
    "dataset_sizes = [len(test_data[test_data[\"dataset_name\"] == d]) for d in pearson_results]\n",
    "all_mean = sum([r * n for r, n in zip(pearson_results.values(), dataset_sizes)]) / sum(dataset_sizes)\n",
    "\n",
    "best_results = {\n",
    "    \"ALL\": pearson_corr,\n",
    "    \"ALL_nrm\": normalized_pearson_corr,\n",
    "    \"Mean\": all_mean,\n",
    "    \"MSRpar\": pearson_results[\"MSRpar\"],\n",
    "    \"MSRvid\": pearson_results[\"MSRvid\"],\n",
    "    \"SMT-eur\": pearson_results[\"SMTeuroparl\"],\n",
    "    \"On-WN\": pearson_results[\"surprise.OnWN\"],\n",
    "    \"SMT-news\": pearson_results[\"surprise.SMTnews\"]\n",
    "}\n",
    "\n",
    "best_results"
   ]
  },
  {
   "cell_type": "code",
   "execution_count": null,
   "metadata": {},
   "outputs": [],
   "source": [
    "\n",
    "# Add our results to the official results DataFrame\n",
    "comparison_results = pd.concat([official_results, own_results], ignore_index=True)\n",
    "\n",
    "# Modify Official Results\n",
    "#official_results.insert\n",
    "\n",
    "# Display the comparison\n",
    "print(comparison_results)"
   ]
  },
  {
   "cell_type": "markdown",
   "metadata": {},
   "source": [
    "# **7. Feature Importance Analysis**"
   ]
  },
  {
   "cell_type": "markdown",
   "metadata": {},
   "source": [
    "We believe it is important to identify which features are most influential in the final model for classifying each pair of sentences. Below, we present a bar chart displaying each feature sorted by their importance."
   ]
  },
  {
   "cell_type": "code",
   "execution_count": 72,
   "metadata": {},
   "outputs": [],
   "source": [
    "# Extract the importance from each feature\n",
    "importances = model.feature_importances_\n",
    "\n",
    "# Create a DataFrame for visualization\n",
    "feature_importances = pd.DataFrame({\n",
    "    'Feature': features_train.columns,\n",
    "    'Importance': importances\n",
    "}).sort_values(by='Importance', ascending=False)\n"
   ]
  },
  {
   "cell_type": "code",
   "execution_count": 88,
   "metadata": {},
   "outputs": [
    {
     "data": {
      "image/png": "[encoded data removed]",
      "text/plain": [
       "<Figure size 1000x800 with 1 Axes>"
      ]
     },
     "metadata": {},
     "output_type": "display_data"
    }
   ],
   "source": [
    "# Define Syntactic Features\n",
    "syntactic_features = ['pathlen_similarity', 'lin_similarity', 'average_similarity', 'wordnet_augmented_word_overlap', 'wordnet_augmented_overlap',\n",
    "                      'weighted_word_overlap', 'pos_2_ngram_overlap', 'pos_3_ngram_overlap', 'pos_4_ngram_overlap']\n",
    "\n",
    "# Assign colours based on feature type\n",
    "feature_colors = [cm.tab10.colors[1] if feature in syntactic_features else cm.tab10.colors[0] \n",
    "                  for feature in feature_importances['Feature']]\n",
    "\n",
    "# Plot the feature importances\n",
    "plt.figure(figsize=(10, 8))\n",
    "plt.barh(feature_importances['Feature'], feature_importances['Importance'], color=feature_colors)\n",
    "plt.xlabel('Feature Importance')\n",
    "plt.ylabel('Feature')\n",
    "plt.title(f'Feature Importances in {best_model_name}')\n",
    "plt.gca().invert_yaxis() # Most important feature at the top\n",
    "\n",
    "# Create a legend\n",
    "plt.legend(handles=[\n",
    "    plt.Line2D([0], [0], color=cm.tab10.colors[1], lw=4, label='Syntactic'),\n",
    "    plt.Line2D([0], [0], color=cm.tab10.colors[0], lw=4, label='Lexical')\n",
    "], loc='upper right', bbox_to_anchor=(1, 0.9))\n",
    "\n",
    "plt.show()"
   ]
  },
  {
   "cell_type": "markdown",
   "metadata": {},
   "source": [
    "The bar chart displays the importance of each feature in the selected model. Features with higher importance scores contribute more significantly to the model's predictions, while those with lower scores have less influence.\n",
    "\n",
    "From the chart, we observe that certain features, such as `2_gram_char` and `wordnet_augmented_overlap` have high importance, indicating they are crucial in determining sentence similarity. These features capture essential aspects of lexical and semantic similarity effectively. On the other hand, features like `4_gram_word_Jaccard_without_SW` and `pos_3_ngram_overlap` show lower importance, suggesting they have a minimal impact on the model's decisions.\n",
    "\n",
    "**`2_gram_chart` es la feature que tiene más importancia por diferencia, posiblemente indicando que features léxicas funcionan muy bien para estos datasets. Después de esta feature, el equilibrio entre features lexicas y sintacticas está muy balanceado, siguiendo una feature sintáctica `wordnet_augmented_overlap`, seguido de 3 features léxicas y luego 3 features sintácticas. En el siguiente grafo, vamos a mostrar la feature importance de nuestro mejor modelo dependiendo del dataset.**"
   ]
  },
  {
   "cell_type": "markdown",
   "metadata": {},
   "source": [
    "aqui fer feature analysis però amb importancia acumulada donada el tipus de feature (lexica o semantica) amb un bar plot en horitzontal"
   ]
  },
  {
   "cell_type": "markdown",
   "metadata": {},
   "source": [
    "Overall, the analysis reveals that lexical features tend to be more influential than syntactic features in assessing sentence similarity."
   ]
  },
  {
   "cell_type": "markdown",
   "metadata": {},
   "source": [
    "# **Conclusions**"
   ]
  },
  {
   "cell_type": "markdown",
   "metadata": {},
   "source": [
    "In this project, we successfully implemented and trained three different classifiers to predict the similarity between pairs of sentences."
   ]
  },
  {
   "cell_type": "markdown",
   "metadata": {},
   "source": [
    "# **References**"
   ]
  }
 ],
 "metadata": {
  "kernelspec": {
   "display_name": "Python 3",
   "language": "python",
   "name": "python3"
  },
  "language_info": {
   "codemirror_mode": {
    "name": "ipython",
    "version": 3
   },
   "file_extension": ".py",
   "mimetype": "text/x-python",
   "name": "python",
   "nbconvert_exporter": "python",
   "pygments_lexer": "ipython3",
   "version": "3.12.4"
  }
 },
 "nbformat": 4,
 "nbformat_minor": 2
}
